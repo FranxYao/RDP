{
 "cells": [
  {
   "cell_type": "markdown",
   "id": "b1f2c57e-a78d-4a3a-8adc-b1f2582ddbf8",
   "metadata": {},
   "source": [
    "# Compare Bigram to Existing Linguistic Annotation"
   ]
  },
  {
   "cell_type": "code",
   "execution_count": null,
   "id": "9ea5e5a1-f4e6-4519-a2d0-b4df8d4b39d6",
   "metadata": {},
   "outputs": [],
   "source": []
  }
 ],
 "metadata": {
  "kernelspec": {
   "display_name": "Python 3 (ipykernel)",
   "language": "python",
   "name": "python3"
  },
  "language_info": {
   "codemirror_mode": {
    "name": "ipython",
    "version": 3
   },
   "file_extension": ".py",
   "mimetype": "text/x-python",
   "name": "python",
   "nbconvert_exporter": "python",
   "pygments_lexer": "ipython3",
   "version": "3.7.12"
  }
 },
 "nbformat": 4,
 "nbformat_minor": 5
}

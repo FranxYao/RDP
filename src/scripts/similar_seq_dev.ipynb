{
 "cells": [
  {
   "cell_type": "markdown",
   "id": "2f1632b5-b6d5-4722-9f2a-201682bc80ad",
   "metadata": {},
   "source": [
    "# Compute Similar Latent Sequences for Dev Set"
   ]
  },
  {
   "cell_type": "code",
   "execution_count": null,
   "id": "6004f441-ab5d-42f9-91bc-ec9b95cb2f68",
   "metadata": {},
   "outputs": [],
   "source": []
  },
  {
   "cell_type": "markdown",
   "id": "54fa5a49-30ee-4262-a47f-f1b6fa28eb34",
   "metadata": {},
   "source": [
    "## Load Dataset "
   ]
  },
  {
   "cell_type": "code",
   "execution_count": null,
   "id": "2ecb4fa0-cd90-4d26-8c86-50038210da5a",
   "metadata": {},
   "outputs": [],
   "source": []
  },
  {
   "cell_type": "markdown",
   "id": "5c6c4884-aa90-46d9-bca0-9b5978e3023a",
   "metadata": {},
   "source": [
    "## For each sentence, compute its state edit length to other sentences"
   ]
  },
  {
   "cell_type": "code",
   "execution_count": null,
   "id": "0a619c1d-d939-4d1f-814e-8f7e7d7b831a",
   "metadata": {},
   "outputs": [],
   "source": []
  }
 ],
 "metadata": {
  "kernelspec": {
   "display_name": "Python 3 (ipykernel)",
   "language": "python",
   "name": "python3"
  },
  "language_info": {
   "codemirror_mode": {
    "name": "ipython",
    "version": 3
   },
   "file_extension": ".py",
   "mimetype": "text/x-python",
   "name": "python",
   "nbconvert_exporter": "python",
   "pygments_lexer": "ipython3",
   "version": "3.7.12"
  }
 },
 "nbformat": 4,
 "nbformat_minor": 5
}

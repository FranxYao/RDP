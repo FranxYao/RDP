{
 "cells": [
  {
   "cell_type": "markdown",
   "id": "original-hierarchy",
   "metadata": {},
   "source": [
    "# Study of the scale of the contextualized embeddings\n",
    "\n",
    "Yao Fu, University of Edinburgh\\\n",
    "yao.fu@ed.ac.uk\\\n",
    "Fri Jun 18 2021"
   ]
  },
  {
   "cell_type": "code",
   "execution_count": 1,
   "id": "funded-dietary",
   "metadata": {},
   "outputs": [],
   "source": [
    "import torch \n",
    "import codecs\n",
    "\n",
    "import numpy as np\n",
    "import matplotlib.pyplot as plt\n",
    "\n",
    "from tqdm import tqdm \n",
    "from data_utils import News20Data\n",
    "from transformers import BertModel, AdamW, get_constant_schedule_with_warmup"
   ]
  },
  {
   "cell_type": "code",
   "execution_count": 20,
   "id": "valid-liverpool",
   "metadata": {},
   "outputs": [],
   "source": [
    "%load_ext autoreload\n",
    "%autoreload 2"
   ]
  },
  {
   "cell_type": "code",
   "execution_count": 2,
   "id": "wireless-teaching",
   "metadata": {},
   "outputs": [
    {
     "name": "stdout",
     "output_type": "stream",
     "text": [
      "Processing dataset ...\n",
      "Reading data ...\n",
      "... 0 seconds\n",
      "Tokenizing and sorting train data ...\n",
      "... 61 seconds\n",
      "Tokenizing and sorting dev data ...\n",
      "... 20 seconds\n",
      "Tokenizing and sorting test data ...\n",
      "... 19 seconds\n"
     ]
    }
   ],
   "source": [
    "dataset = News20Data(batch_size=20)"
   ]
  },
  {
   "cell_type": "code",
   "execution_count": 3,
   "id": "chinese-algorithm",
   "metadata": {},
   "outputs": [],
   "source": [
    "bert = BertModel.from_pretrained('bert-base-uncased')"
   ]
  },
  {
   "cell_type": "code",
   "execution_count": 4,
   "id": "legislative-teaching",
   "metadata": {},
   "outputs": [],
   "source": [
    "dev_loader = dataset.val_dataloader()"
   ]
  },
  {
   "cell_type": "code",
   "execution_count": 21,
   "id": "decimal-interview",
   "metadata": {},
   "outputs": [],
   "source": [
    "word_freq = torch.zeros(30522)\n",
    "word_emb = torch.zeros(30522, 768)"
   ]
  },
  {
   "cell_type": "code",
   "execution_count": 22,
   "id": "supposed-guyana",
   "metadata": {},
   "outputs": [
    {
     "name": "stderr",
     "output_type": "stream",
     "text": [
      "100%|██████████| 2613/2613 [37:26<00:00,  1.16it/s]\n"
     ]
    }
   ],
   "source": [
    "with torch.no_grad():\n",
    "    # for bi, batch in tqdm(enumerate(dev_loader)):\n",
    "    for batch in tqdm(dev_loader):\n",
    "        # if(bi == 100): break\n",
    "        emb = bert(batch['input_ids'], batch['attention_mask'])[0]\n",
    "        for x, x_emb in zip(batch['input_ids'], emb):\n",
    "            for xi, xie in zip(x, x_emb):\n",
    "                word_freq[xi] += 1\n",
    "                word_emb[xi] += xie"
   ]
  },
  {
   "cell_type": "code",
   "execution_count": 23,
   "id": "abroad-binding",
   "metadata": {},
   "outputs": [],
   "source": [
    "word_emb_norm = word_emb / (word_freq + 1).view(30522, 1)\n",
    "word_emb_norm = (word_emb_norm * word_emb_norm).sum(-1)"
   ]
  },
  {
   "cell_type": "code",
   "execution_count": 42,
   "id": "fifth-pavilion",
   "metadata": {},
   "outputs": [],
   "source": [
    "x = []\n",
    "y = []\n",
    "for w, we in zip(word_freq, word_emb_norm):\n",
    "    if(w > 0 and w < 1500): \n",
    "        x.append(w)\n",
    "        y.append(we)"
   ]
  },
  {
   "cell_type": "code",
   "execution_count": 43,
   "id": "constitutional-exhibit",
   "metadata": {},
   "outputs": [],
   "source": [
    "x = np.array(x)\n",
    "y = np.array(y)"
   ]
  },
  {
   "cell_type": "code",
   "execution_count": 44,
   "id": "interior-awareness",
   "metadata": {},
   "outputs": [
    {
     "data": {
      "text/plain": [
       "(20629,)"
      ]
     },
     "execution_count": 44,
     "metadata": {},
     "output_type": "execute_result"
    }
   ],
   "source": [
    "y.shape"
   ]
  },
  {
   "cell_type": "code",
   "execution_count": 45,
   "id": "green-pencil",
   "metadata": {},
   "outputs": [
    {
     "data": {
      "text/plain": [
       "<matplotlib.collections.PathCollection at 0x7fe67072acf8>"
      ]
     },
     "execution_count": 45,
     "metadata": {},
     "output_type": "execute_result"
    },
    {
     "data": {
      "image/png": "[encoded data removed]",
      "text/plain": [
       "<Figure size 432x288 with 1 Axes>"
      ]
     },
     "metadata": {
      "needs_background": "light"
     },
     "output_type": "display_data"
    }
   ],
   "source": [
    "plt.scatter(x, y)"
   ]
  },
  {
   "cell_type": "markdown",
   "id": "comprehensive-fourth",
   "metadata": {},
   "source": [
    "**Conclusion: word scale irrelevant to frequency**"
   ]
  },
  {
   "cell_type": "code",
   "execution_count": 20,
   "id": "suspended-simple",
   "metadata": {},
   "outputs": [
    {
     "data": {
      "text/plain": [
       "6557"
      ]
     },
     "execution_count": 20,
     "metadata": {},
     "output_type": "execute_result"
    }
   ],
   "source": [
    "(x > 0).sum()"
   ]
  },
  {
   "cell_type": "code",
   "execution_count": 19,
   "id": "stretch-outline",
   "metadata": {},
   "outputs": [
    {
     "data": {
      "text/plain": [
       "array([58.85555,  0.     ,  0.     , ...,  0.     ,  0.     ,  0.     ],\n",
       "      dtype=float32)"
      ]
     },
     "execution_count": 19,
     "metadata": {},
     "output_type": "execute_result"
    }
   ],
   "source": [
    "y"
   ]
  }
 ],
 "metadata": {
  "kernelspec": {
   "display_name": "Python 3",
   "language": "python",
   "name": "python3"
  },
  "language_info": {
   "codemirror_mode": {
    "name": "ipython",
    "version": 3
   },
   "file_extension": ".py",
   "mimetype": "text/x-python",
   "name": "python",
   "nbconvert_exporter": "python",
   "pygments_lexer": "ipython3",
   "version": "3.6.13"
  }
 },
 "nbformat": 4,
 "nbformat_minor": 5
}

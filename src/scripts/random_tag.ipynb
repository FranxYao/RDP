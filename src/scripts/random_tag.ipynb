{
 "cells": [
  {
   "cell_type": "markdown",
   "id": "f7b0bcc3-d381-4da7-854f-9aa7261607fb",
   "metadata": {},
   "source": [
    "# Random Tag V Measure Baseline Performance"
   ]
  },
  {
   "cell_type": "code",
   "execution_count": 2,
   "id": "32a5b16f-d5a1-4cbb-8aab-1c4e98a002b8",
   "metadata": {},
   "outputs": [],
   "source": [
    "import spacy\n",
    "import codecs\n",
    "import truecase\n",
    "\n",
    "import numpy as np \n",
    "\n",
    "from tokenizations import get_alignments\n",
    "from transformers import BertTokenizer\n",
    "from tqdm import tqdm\n",
    "from collections import Counter\n",
    "from sklearn.metrics import v_measure_score"
   ]
  },
  {
   "cell_type": "code",
   "execution_count": 3,
   "id": "280380a2-0fd3-44f7-ad12-57d4e3f0e945",
   "metadata": {},
   "outputs": [],
   "source": [
    "def read_data(data_path='../../data/news/'):\n",
    "    \"\"\"Read 20news data, test only\"\"\"\n",
    "    # use the cased data for NER, otherwise spacy does not work with uncased \n",
    "    with codecs.open(data_path + '20news.txt', encoding='utf-8') as fd:\n",
    "        data = fd.readlines()\n",
    "    train_idx = np.load(data_path + 'test_idx.npy')\n",
    "    train_data = [data[i][: -1] for i in train_idx]\n",
    "    return train_data"
   ]
  },
  {
   "cell_type": "code",
   "execution_count": 4,
   "id": "4732682a-a276-4c02-b8a2-e6f383b1c9c7",
   "metadata": {},
   "outputs": [],
   "source": [
    "test_data = read_data()"
   ]
  },
  {
   "cell_type": "code",
   "execution_count": 8,
   "id": "f120d268-a316-412a-b809-39ed81da8898",
   "metadata": {},
   "outputs": [],
   "source": [
    "nlp = spacy.load(\"en_core_web_sm\", disable='parser')"
   ]
  },
  {
   "cell_type": "code",
   "execution_count": 97,
   "id": "37717732-ef8f-4887-9120-3818198f8623",
   "metadata": {},
   "outputs": [
    {
     "name": "stderr",
     "output_type": "stream",
     "text": [
      "100%|██████████████████████████████████████████████████████████████████████████████████████████████████████████████████████████████████████████████████████████████████████| 52285/52285 [05:29<00:00, 158.50it/s]\n"
     ]
    }
   ],
   "source": [
    "pos_tags = []\n",
    "ent_tags = []\n",
    "ent_dict = {}\n",
    "spacy_tokenized = []\n",
    "\n",
    "for s in tqdm(test_data):\n",
    "    # doc = nlp(truecase.get_true_case(s))\n",
    "    doc = nlp(s)\n",
    "\n",
    "    for token in doc:\n",
    "        spacy_tokenized.append(token.text)\n",
    "        pos_tags.append(token.pos)\n",
    "        ent_tags.append(token.ent_type)\n",
    "            \n",
    "    for ent in doc.ents:\n",
    "        if(ent.label_ not in ent_dict): ent_dict[ent.label_] = [ent.text]\n",
    "        else: ent_dict[ent.label_].append(ent.text)"
   ]
  },
  {
   "cell_type": "code",
   "execution_count": 76,
   "id": "9f0dc235-ae37-45f4-8628-53cd58326c1a",
   "metadata": {
    "collapsed": true,
    "jupyter": {
     "outputs_hidden": true
    },
    "tags": []
   },
   "outputs": [
    {
     "data": {
      "text/plain": [
       "Counter({93: 189,\n",
       "         97: 1168,\n",
       "         95: 658,\n",
       "         100: 810,\n",
       "         90: 593,\n",
       "         92: 1379,\n",
       "         85: 678,\n",
       "         84: 496,\n",
       "         89: 184,\n",
       "         96: 461,\n",
       "         87: 515,\n",
       "         86: 299,\n",
       "         94: 224,\n",
       "         99: 31,\n",
       "         98: 197,\n",
       "         101: 34,\n",
       "         91: 34})"
      ]
     },
     "execution_count": 76,
     "metadata": {},
     "output_type": "execute_result"
    }
   ],
   "source": [
    "Counter(pos_tags)"
   ]
  },
  {
   "cell_type": "code",
   "execution_count": 77,
   "id": "8ffe4692-af6f-4ed8-aaf9-efc02829f3b4",
   "metadata": {
    "collapsed": true,
    "jupyter": {
     "outputs_hidden": true
    },
    "tags": []
   },
   "outputs": [
    {
     "data": {
      "text/plain": [
       "Counter({397: 112,\n",
       "         0: 7438,\n",
       "         381: 20,\n",
       "         383: 101,\n",
       "         391: 102,\n",
       "         380: 72,\n",
       "         385: 5,\n",
       "         395: 16,\n",
       "         393: 7,\n",
       "         384: 32,\n",
       "         396: 8,\n",
       "         394: 18,\n",
       "         386: 6,\n",
       "         390: 5,\n",
       "         392: 8})"
      ]
     },
     "execution_count": 77,
     "metadata": {},
     "output_type": "execute_result"
    }
   ],
   "source": [
    "Counter(ent_tags)"
   ]
  },
  {
   "cell_type": "markdown",
   "id": "8cc0e267-d0af-4772-b611-ef062607bc55",
   "metadata": {},
   "source": [
    "## Random Pos Tag, V Measure score"
   ]
  },
  {
   "cell_type": "code",
   "execution_count": 98,
   "id": "eda7530f-8581-494e-ac8f-207e85fc48cd",
   "metadata": {},
   "outputs": [],
   "source": [
    "N = 2000"
   ]
  },
  {
   "cell_type": "code",
   "execution_count": 99,
   "id": "77fa4aab-5738-4205-9635-89b937682af5",
   "metadata": {},
   "outputs": [
    {
     "data": {
      "text/plain": [
       "0.0038096341051679153"
      ]
     },
     "execution_count": 99,
     "metadata": {},
     "output_type": "execute_result"
    }
   ],
   "source": [
    "random_pos_tags = np.random.randint(0, N, len(pos_tags))\n",
    "v_measure_score(random_pos_tags, np.array(pos_tags))"
   ]
  },
  {
   "cell_type": "code",
   "execution_count": 100,
   "id": "55af3b07-cf00-4816-863d-f1f63e6aab9a",
   "metadata": {},
   "outputs": [],
   "source": [
    "N = 10000"
   ]
  },
  {
   "cell_type": "code",
   "execution_count": 101,
   "id": "4e94d820-fca4-42e7-9640-83f993b7e3f9",
   "metadata": {},
   "outputs": [
    {
     "data": {
      "text/plain": [
       "0.016255415736912696"
      ]
     },
     "execution_count": 101,
     "metadata": {},
     "output_type": "execute_result"
    }
   ],
   "source": [
    "random_pos_tags = np.random.randint(0, N, len(pos_tags))\n",
    "v_measure_score(random_pos_tags, np.array(pos_tags))"
   ]
  },
  {
   "cell_type": "markdown",
   "id": "4760f961-2284-4aa5-befa-bac741e2e0c4",
   "metadata": {},
   "source": [
    "## Random Entity type, V Measure Score"
   ]
  },
  {
   "cell_type": "code",
   "execution_count": 102,
   "id": "68cfcf53-944d-4797-9bc3-c6179f227a35",
   "metadata": {},
   "outputs": [
    {
     "data": {
      "text/plain": [
       "0.0041198939587344255"
      ]
     },
     "execution_count": 102,
     "metadata": {},
     "output_type": "execute_result"
    }
   ],
   "source": [
    "N = 2000\n",
    "random_ent_tags = np.random.randint(0, N, len(ent_tags))\n",
    "v_measure_score(random_ent_tags, np.array(ent_tags))"
   ]
  },
  {
   "cell_type": "code",
   "execution_count": 103,
   "id": "c80ac7e6-d0af-43fc-b9b7-7a264842256a",
   "metadata": {},
   "outputs": [
    {
     "data": {
      "text/plain": [
       "0.011516627813481279"
      ]
     },
     "execution_count": 103,
     "metadata": {},
     "output_type": "execute_result"
    }
   ],
   "source": [
    "N = 10000\n",
    "random_ent_tags = np.random.randint(0, N, len(ent_tags))\n",
    "v_measure_score(random_ent_tags, np.array(ent_tags))"
   ]
  }
 ],
 "metadata": {
  "kernelspec": {
   "display_name": "Python 3 (ipykernel)",
   "language": "python",
   "name": "python3"
  },
  "language_info": {
   "codemirror_mode": {
    "name": "ipython",
    "version": 3
   },
   "file_extension": ".py",
   "mimetype": "text/x-python",
   "name": "python",
   "nbconvert_exporter": "python",
   "pygments_lexer": "ipython3",
   "version": "3.7.12"
  }
 },
 "nbformat": 4,
 "nbformat_minor": 5
}

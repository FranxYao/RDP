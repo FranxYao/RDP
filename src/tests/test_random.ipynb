{
 "cells": [
  {
   "cell_type": "markdown",
   "id": "d69eff44-fce7-4619-a1d5-775cb84220bd",
   "metadata": {},
   "source": [
    "# Test if initialize tSNE with PCA would speed up computation"
   ]
  },
  {
   "cell_type": "code",
   "execution_count": 1,
   "id": "07f0d0fa-377c-4fef-9ffd-c84f278d629b",
   "metadata": {},
   "outputs": [],
   "source": [
    "import torch \n",
    "import sklearn\n",
    "\n",
    "import numpy as np \n",
    "import matplotlib.pyplot as plt\n",
    "import seaborn as sns\n",
    "\n",
    "from sklearn.decomposition import PCA\n",
    "from sklearn.manifold import TSNE\n",
    "from pandas import DataFrame\n",
    "\n",
    "from collections import Counter\n",
    "from tqdm import tqdm \n",
    "from data_utils import News20Data\n",
    "from transformers import BertModel, BertTokenizer\n",
    "from nltk.corpus import stopwords\n",
    "from matplotlib.pyplot import figure\n",
    "from matplotlib import collections as mc\n",
    "from matplotlib.colors import ListedColormap"
   ]
  },
  {
   "cell_type": "code",
   "execution_count": 2,
   "id": "bad29408-894c-4919-81ff-f5f0abd2efa0",
   "metadata": {},
   "outputs": [],
   "source": [
    "STOPWORDS = stopwords.words('english')\n",
    "STOPWORDS.extend(['\"', \"'\", '.', ',', '?', '!', '-', '[CLS]', '[SEP]', '[PAD]',\n",
    "  ':', '@', '/', '[', ']', '(', ')', 'would', 'like'])\n",
    "STOPWORDS = set(STOPWORDS)"
   ]
  },
  {
   "cell_type": "code",
   "execution_count": 3,
   "id": "7c97543e-095d-46c1-843b-4ea60d12c200",
   "metadata": {},
   "outputs": [
    {
     "name": "stdout",
     "output_type": "stream",
     "text": [
      "Processing dataset ...\n",
      "Reading data ...\n",
      "... 0 seconds\n",
      "Tokenizing and sorting train data ...\n",
      "... 111 seconds\n",
      "Tokenizing and sorting dev data ...\n",
      "... 36 seconds\n",
      "Tokenizing and sorting test data ...\n",
      "... 37 seconds\n"
     ]
    }
   ],
   "source": [
    "batch_size=20\n",
    "dataset = News20Data(batch_size=batch_size)"
   ]
  },
  {
   "cell_type": "code",
   "execution_count": 4,
   "id": "a7627d39-3870-495f-a8ad-5228fbf26573",
   "metadata": {},
   "outputs": [
    {
     "name": "stderr",
     "output_type": "stream",
     "text": [
      "Some weights of the model checkpoint at bert-base-uncased were not used when initializing BertModel: ['cls.predictions.decoder.weight', 'cls.predictions.transform.dense.weight', 'cls.seq_relationship.bias', 'cls.predictions.transform.LayerNorm.weight', 'cls.seq_relationship.weight', 'cls.predictions.transform.LayerNorm.bias', 'cls.predictions.transform.dense.bias', 'cls.predictions.bias']\n",
      "- This IS expected if you are initializing BertModel from the checkpoint of a model trained on another task or with another architecture (e.g. initializing a BertForSequenceClassification model from a BertForPreTraining model).\n",
      "- This IS NOT expected if you are initializing BertModel from the checkpoint of a model that you expect to be exactly identical (initializing a BertForSequenceClassification model from a BertForSequenceClassification model).\n"
     ]
    }
   ],
   "source": [
    "bert = BertModel.from_pretrained('bert-base-uncased')\n",
    "bert.to('cuda')\n",
    "tokenizer = BertTokenizer.from_pretrained('bert-base-uncased')"
   ]
  },
  {
   "cell_type": "code",
   "execution_count": 8,
   "id": "4978dcdf-ef3a-4fbb-b322-609bb2d2e5cc",
   "metadata": {},
   "outputs": [],
   "source": [
    "ckpt = torch.load('../models/bertnet_0.0.4.10.3/e9-model.pt')\n",
    "state_matrix = ckpt['state_matrix']"
   ]
  },
  {
   "cell_type": "code",
   "execution_count": 10,
   "id": "faf5b431-4b64-442b-a091-1611d6890a40",
   "metadata": {},
   "outputs": [],
   "source": [
    "def read_state_freq(path):\n",
    "    state_freq = np.zeros(2000)\n",
    "    state_nonstop_freq = np.zeros(2000)\n",
    "    with open(path) as fd:\n",
    "        lines = fd.readlines()\n",
    "        for li, l in enumerate(lines):\n",
    "            if(li % 3 == 0):\n",
    "                l = l.split()\n",
    "                state_id = int(l[1])\n",
    "                state_freq[state_id] = int(l[3])\n",
    "                state_nonstop_freq[state_id] = int(l[5])\n",
    "                \n",
    "    state_freq_norm = np.log(state_freq)\n",
    "    state_freq_norm = state_freq_norm - state_freq_norm.min()\n",
    "    state_freq_norm = state_freq_norm / state_freq_norm.max()\n",
    "    \n",
    "    state_nonstop_freq_r = state_nonstop_freq / state_freq\n",
    "    state_freq_idx_sort = state_freq.argsort()[::-1]\n",
    "    state_freq_idx_inverse = {}\n",
    "    for i, j in enumerate(state_freq_idx_sort):\n",
    "        state_freq_idx_inverse[j] = i\n",
    "    state_stop_freq = state_freq - state_nonstop_freq\n",
    "    return state_freq_norm, state_nonstop_freq_r, state_freq_idx_sort, state_freq_idx_inverse, state_freq, state_nonstop_freq"
   ]
  },
  {
   "cell_type": "code",
   "execution_count": 11,
   "id": "4d32ea66-65d3-41ab-88db-cbfa8c68544a",
   "metadata": {},
   "outputs": [],
   "source": [
    "state_freq_norm, state_nonstop_freq_r, state_freq_idx_sort, state_freq_idx_inverse, state_freq, state_nonstop_freq = read_state_freq('/home/s1946695/Scale-CRF-Latent-Space/outputs/bertnet_0.0.4.10.3/bertnet_dev_epoch_9_s2w.txt')"
   ]
  },
  {
   "cell_type": "code",
   "execution_count": null,
   "id": "8df39cbd-50ac-4361-8047-5d7ef758e151",
   "metadata": {},
   "outputs": [],
   "source": []
  }
 ],
 "metadata": {
  "kernelspec": {
   "display_name": "Python 3",
   "language": "python",
   "name": "python3"
  },
  "language_info": {
   "codemirror_mode": {
    "name": "ipython",
    "version": 3
   },
   "file_extension": ".py",
   "mimetype": "text/x-python",
   "name": "python",
   "nbconvert_exporter": "python",
   "pygments_lexer": "ipython3",
   "version": "3.6.13"
  }
 },
 "nbformat": 4,
 "nbformat_minor": 5
}

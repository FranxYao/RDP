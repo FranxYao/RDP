{
 "cells": [
  {
   "cell_type": "code",
   "execution_count": 1,
   "id": "07f0d0fa-377c-4fef-9ffd-c84f278d629b",
   "metadata": {},
   "outputs": [],
   "source": [
    "from frtorch import LinearChainCRF"
   ]
  },
  {
   "cell_type": "markdown",
   "id": "fee017d0-21da-42da-80f8-f4023ab9b0cc",
   "metadata": {},
   "source": [
    "# TODO: debug the entropy DP"
   ]
  },
  {
   "cell_type": "code",
   "execution_count": 2,
   "id": "3a81223e-b31c-4f45-9331-75a83a59ff38",
   "metadata": {},
   "outputs": [],
   "source": [
    "%load_ext autoreload\n",
    "%autoreload 2"
   ]
  },
  {
   "cell_type": "code",
   "execution_count": 3,
   "id": "ac712f19-df15-4816-b293-5a23ae0b5bc3",
   "metadata": {},
   "outputs": [],
   "source": [
    "import torch \n",
    "import numpy as np"
   ]
  },
  {
   "cell_type": "code",
   "execution_count": 4,
   "id": "8df39cbd-50ac-4361-8047-5d7ef758e151",
   "metadata": {},
   "outputs": [],
   "source": [
    "transition = torch.randn([2000, 2000])\n",
    "emission = torch.randn([1, 10, 2000])\n",
    "lens = torch.tensor([10])"
   ]
  },
  {
   "cell_type": "code",
   "execution_count": 29,
   "id": "0d3339e9-6f67-4291-8412-7087b2141bd2",
   "metadata": {},
   "outputs": [],
   "source": [
    "# This case should be verified and implemented correctly\n",
    "\n",
    "transition = torch.zeros([2, 2])\n",
    "emission = torch.zeros([1, 10, 2])\n",
    "lens = torch.tensor([3])"
   ]
  },
  {
   "cell_type": "code",
   "execution_count": 6,
   "id": "bc7986d7-85ab-4caa-9dc0-e89baa86d9fb",
   "metadata": {},
   "outputs": [],
   "source": [
    "crf = LinearChainCRF()"
   ]
  },
  {
   "cell_type": "code",
   "execution_count": 30,
   "id": "d9cbb0a4-9bab-4038-b752-9d58dba95835",
   "metadata": {},
   "outputs": [],
   "source": [
    "alpha, log_Z = crf.forward_sum(transition, emission, lens)"
   ]
  },
  {
   "cell_type": "code",
   "execution_count": 31,
   "id": "190fae37-b63c-43c8-b7fc-4dce945aba89",
   "metadata": {},
   "outputs": [
    {
     "data": {
      "text/plain": [
       "tensor([[[0.0000, 0.0000],\n",
       "         [0.6931, 0.6931],\n",
       "         [1.3863, 1.3863],\n",
       "         [2.0794, 2.0794],\n",
       "         [2.7726, 2.7726],\n",
       "         [3.4657, 3.4657],\n",
       "         [4.1589, 4.1589],\n",
       "         [4.8520, 4.8520],\n",
       "         [5.5452, 5.5452],\n",
       "         [6.2383, 6.2383]]])"
      ]
     },
     "execution_count": 31,
     "metadata": {},
     "output_type": "execute_result"
    }
   ],
   "source": [
    "alpha"
   ]
  },
  {
   "cell_type": "code",
   "execution_count": 32,
   "id": "a09b3fd2-5cee-4415-aeb8-dbe244431ac2",
   "metadata": {},
   "outputs": [
    {
     "name": "stdout",
     "output_type": "stream",
     "text": [
      "tensor([[1.3863, 1.3863]])\n",
      "tensor([[-0.6931, -0.6931]])\n",
      "tensor([[0.5000, 0.5000]])\n",
      "tensor([[1.0397, 1.0397]])\n"
     ]
    }
   ],
   "source": [
    "h_total, H = crf.entropy(transition, emission, lens, debug=True)"
   ]
  },
  {
   "cell_type": "code",
   "execution_count": 33,
   "id": "b2a3094f-8cf8-4ad4-b573-2d0fb4d7c629",
   "metadata": {},
   "outputs": [
    {
     "data": {
      "text/plain": [
       "tensor([2.0794])"
      ]
     },
     "execution_count": 33,
     "metadata": {},
     "output_type": "execute_result"
    }
   ],
   "source": [
    "h_total"
   ]
  },
  {
   "cell_type": "code",
   "execution_count": 28,
   "id": "802d3b0d-a63a-4f39-8f9b-eba652ebb476",
   "metadata": {},
   "outputs": [
    {
     "data": {
      "text/plain": [
       "2.0794415416798357"
      ]
     },
     "execution_count": 28,
     "metadata": {},
     "output_type": "execute_result"
    }
   ],
   "source": [
    "np.log(8)"
   ]
  },
  {
   "cell_type": "code",
   "execution_count": 10,
   "id": "f30b8e2c-5aa4-405f-aa14-098e69086bbb",
   "metadata": {},
   "outputs": [
    {
     "data": {
      "text/plain": [
       "1.3862943611198906"
      ]
     },
     "execution_count": 10,
     "metadata": {},
     "output_type": "execute_result"
    }
   ],
   "source": [
    "-2 * np.log(1/2)"
   ]
  },
  {
   "cell_type": "code",
   "execution_count": 11,
   "id": "d7ebfb17-4391-4d9e-9f1b-16865ec71d2c",
   "metadata": {},
   "outputs": [],
   "source": [
    "_, log_z = crf.forward_sum(transition, emission, lens)"
   ]
  },
  {
   "cell_type": "code",
   "execution_count": 12,
   "id": "3818d9f4-e594-4f41-bb61-c318ab89a7f7",
   "metadata": {},
   "outputs": [
    {
     "data": {
      "text/plain": [
       "tensor([16.0740])"
      ]
     },
     "execution_count": 12,
     "metadata": {},
     "output_type": "execute_result"
    }
   ],
   "source": [
    "log_z"
   ]
  },
  {
   "cell_type": "code",
   "execution_count": 14,
   "id": "924a0488-24e4-4cae-a408-bec086e50e83",
   "metadata": {},
   "outputs": [],
   "source": [
    "_, log_z = crf.forward_sum(transition, emission, lens, mem_efficient=True)"
   ]
  },
  {
   "cell_type": "code",
   "execution_count": 15,
   "id": "d07c4c81-61fb-41f0-a930-ca0d69f092e7",
   "metadata": {},
   "outputs": [
    {
     "data": {
      "text/plain": [
       "tensor([18.6712])"
      ]
     },
     "execution_count": 15,
     "metadata": {},
     "output_type": "execute_result"
    }
   ],
   "source": [
    "log_z"
   ]
  },
  {
   "cell_type": "markdown",
   "id": "a4b130d8-4057-4250-a522-30c6db98d79a",
   "metadata": {},
   "source": [
    "# Test K sample"
   ]
  },
  {
   "cell_type": "code",
   "execution_count": 4,
   "id": "b4336829-6b80-4d51-9ee1-578380c21356",
   "metadata": {},
   "outputs": [],
   "source": [
    "from collections import Counter"
   ]
  },
  {
   "cell_type": "code",
   "execution_count": 12,
   "id": "dd43c3b1-cfd1-49b5-8456-5b280fa28fd3",
   "metadata": {},
   "outputs": [],
   "source": [
    "transition = torch.zeros([2, 2]).to('cuda')\n",
    "emission = torch.zeros([1, 3, 2]).to('cuda')\n",
    "lens = torch.tensor([2]).to('cuda')"
   ]
  },
  {
   "cell_type": "code",
   "execution_count": 19,
   "id": "3a0cbf63-824b-4d76-b9f1-22529b654396",
   "metadata": {},
   "outputs": [],
   "source": [
    "sample, sample_log_prob = crf.ksample(transition, emission, lens, 10000)"
   ]
  },
  {
   "cell_type": "code",
   "execution_count": 11,
   "id": "1ae85dda-3568-4bec-9453-2d1b3d874f4c",
   "metadata": {},
   "outputs": [
    {
     "data": {
      "text/plain": [
       "torch.Size([1, 100000])"
      ]
     },
     "execution_count": 11,
     "metadata": {},
     "output_type": "execute_result"
    }
   ],
   "source": [
    "sample_log_prob.size()"
   ]
  },
  {
   "cell_type": "code",
   "execution_count": 22,
   "id": "0dc589be-e3fc-4fb8-b562-070cfa9f6e5f",
   "metadata": {},
   "outputs": [],
   "source": [
    "samples = []\n",
    "for s in sample[0]:\n",
    "    samples.append(str(int(s[0])) + str(int(s[1])) + str(int(s[2])))"
   ]
  },
  {
   "cell_type": "code",
   "execution_count": 23,
   "id": "975af494-f1fb-4180-9620-47b709cf7798",
   "metadata": {},
   "outputs": [],
   "source": [
    "samples = Counter(samples)"
   ]
  },
  {
   "cell_type": "code",
   "execution_count": 24,
   "id": "10b76405-a54d-437d-9ad8-3276ccfeb4c7",
   "metadata": {},
   "outputs": [
    {
     "data": {
      "text/plain": [
       "Counter({'101': 1241,\n",
       "         '001': 1252,\n",
       "         '111': 1260,\n",
       "         '011': 1266,\n",
       "         '100': 1229,\n",
       "         '010': 1191,\n",
       "         '110': 1297,\n",
       "         '000': 1264})"
      ]
     },
     "execution_count": 24,
     "metadata": {},
     "output_type": "execute_result"
    }
   ],
   "source": [
    "samples"
   ]
  }
 ],
 "metadata": {
  "kernelspec": {
   "display_name": "Python 3",
   "language": "python",
   "name": "python3"
  },
  "language_info": {
   "codemirror_mode": {
    "name": "ipython",
    "version": 3
   },
   "file_extension": ".py",
   "mimetype": "text/x-python",
   "name": "python",
   "nbconvert_exporter": "python",
   "pygments_lexer": "ipython3",
   "version": "3.6.13"
  }
 },
 "nbformat": 4,
 "nbformat_minor": 5
}

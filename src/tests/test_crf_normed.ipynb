{
 "cells": [
  {
   "cell_type": "markdown",
   "id": "60428951-0cde-4769-9c3d-07b2a4daeeed",
   "metadata": {},
   "source": [
    "# Test sampled CRF normed version\n",
    "\n",
    "* Decision from experiments: limit the difference between crf potentials to be less than 10. Otherwise logsumexp would degrede to max.\n",
    "    * This could be achieved by normalizing and rescaling: `x = scale * (x - x.mean()) / (x.max() - x.min())`"
   ]
  },
  {
   "cell_type": "code",
   "execution_count": 6,
   "id": "f10dea77-057b-47fc-83bb-8d18b0c629b2",
   "metadata": {},
   "outputs": [],
   "source": [
    "import torch \n",
    "import sklearn\n",
    "\n",
    "import numpy as np \n",
    "import matplotlib.pyplot as plt\n",
    "import seaborn as sns\n",
    "\n",
    "from torch import nn\n",
    "from sklearn.decomposition import PCA\n",
    "from sklearn.manifold import TSNE\n",
    "from pandas import DataFrame\n",
    "\n",
    "from collections import Counter\n",
    "from tqdm import tqdm \n",
    "from data_utils import News20Data\n",
    "from transformers import BertModel, BertTokenizer\n",
    "from nltk.corpus import stopwords\n",
    "from matplotlib.pyplot import figure\n",
    "from matplotlib import collections as mc\n",
    "from matplotlib.colors import ListedColormap\n",
    "\n",
    "from frtorch.structure.linear_chain_crf import LinearChainCRF"
   ]
  },
  {
   "cell_type": "code",
   "execution_count": 2,
   "id": "159113e2-9bb2-4a6f-bbf5-87bc589d0984",
   "metadata": {},
   "outputs": [],
   "source": [
    "%load_ext autoreload\n",
    "%autoreload 2"
   ]
  },
  {
   "cell_type": "code",
   "execution_count": 3,
   "id": "e3625d37-0a7a-46bd-9dd5-a92227a0d294",
   "metadata": {},
   "outputs": [
    {
     "name": "stderr",
     "output_type": "stream",
     "text": [
      "Some weights of the model checkpoint at bert-base-uncased were not used when initializing BertModel: ['cls.predictions.transform.LayerNorm.weight', 'cls.predictions.transform.LayerNorm.bias', 'cls.predictions.bias', 'cls.seq_relationship.bias', 'cls.predictions.transform.dense.bias', 'cls.predictions.decoder.weight', 'cls.predictions.transform.dense.weight', 'cls.seq_relationship.weight']\n",
      "- This IS expected if you are initializing BertModel from the checkpoint of a model trained on another task or with another architecture (e.g. initializing a BertForSequenceClassification model from a BertForPreTraining model).\n",
      "- This IS NOT expected if you are initializing BertModel from the checkpoint of a model that you expect to be exactly identical (initializing a BertForSequenceClassification model from a BertForSequenceClassification model).\n"
     ]
    }
   ],
   "source": [
    "bert = BertModel.from_pretrained('bert-base-uncased')\n",
    "bert.to('cuda')\n",
    "tokenizer = BertTokenizer.from_pretrained('bert-base-uncased')\n",
    "\n",
    "# state_matrix = torch.normal(size=[2000, 768], mean=0.0, std=0.01)\n",
    "# state_matrix = state_matrix.to('cuda')"
   ]
  },
  {
   "cell_type": "code",
   "execution_count": 39,
   "id": "ebb5349a-3a10-4d10-9555-fc8f8e07c42f",
   "metadata": {},
   "outputs": [],
   "source": [
    "ckpt_path = '../models/bertnet_0.0.5.0/ckpt-e0.ptmodel.pt'\n",
    "ckpt = torch.load(ckpt_path)\n",
    "state_matrix = ckpt['state_matrix']"
   ]
  },
  {
   "cell_type": "code",
   "execution_count": null,
   "id": "59ecceff-d042-4ae2-a2b1-db6dcf674748",
   "metadata": {},
   "outputs": [],
   "source": [
    "crf = LinearChainCRF('minmax', 10)"
   ]
  },
  {
   "cell_type": "code",
   "execution_count": 4,
   "id": "616843ad-3290-41e4-8a85-6f06badee77e",
   "metadata": {},
   "outputs": [
    {
     "name": "stdout",
     "output_type": "stream",
     "text": [
      "Processing dataset ...\n",
      "Reading data ...\n",
      "... 0 seconds\n",
      "Tokenizing and sorting train data ...\n",
      "... 110 seconds\n",
      "Tokenizing and sorting dev data ...\n",
      "... 36 seconds\n",
      "Tokenizing and sorting test data ...\n",
      "... 37 seconds\n"
     ]
    }
   ],
   "source": [
    "STOPWORDS = stopwords.words('english')\n",
    "STOPWORDS.extend(['\"', \"'\", '.', ',', '?', '!', '-', '[CLS]', '[SEP]', '[PAD]',\n",
    "  ':', '@', '/', '[', ']', '(', ')', 'would', 'like'])\n",
    "STOPWORDS = set(STOPWORDS)\n",
    "batch_size=20\n",
    "dataset = News20Data(batch_size=batch_size)"
   ]
  },
  {
   "cell_type": "code",
   "execution_count": 55,
   "id": "b573b22f-de83-4814-bc2d-fc88052e595e",
   "metadata": {},
   "outputs": [],
   "source": [
    "dev_loader = dataset.val_dataloader()\n",
    "batches = [batch for batch in dev_loader]"
   ]
  },
  {
   "cell_type": "code",
   "execution_count": 81,
   "id": "3bdfc3c9-4956-4a5d-967d-d67e4a5d3731",
   "metadata": {},
   "outputs": [],
   "source": [
    "data_loader = dataset.train_dataloader()\n",
    "batches = []\n",
    "\n",
    "for i, batch in enumerate(data_loader):\n",
    "    batches.append(batch)\n",
    "    if(i == 1000): break"
   ]
  },
  {
   "cell_type": "code",
   "execution_count": 86,
   "id": "332488ae-8d99-40b8-babb-b85cc4f19936",
   "metadata": {},
   "outputs": [],
   "source": [
    "bi = 300\n",
    "emb = bert(batches[bi]['input_ids'].to('cuda'), batches[bi]['attention_mask'].to('cuda'))[0]"
   ]
  },
  {
   "cell_type": "code",
   "execution_count": 87,
   "id": "c455abdc-c663-4a75-a7cf-3b003ed0ad62",
   "metadata": {},
   "outputs": [
    {
     "name": "stdout",
     "output_type": "stream",
     "text": [
      "tensor([8], device='cuda:0')\n"
     ]
    }
   ],
   "source": [
    "emission = torch.einsum('bij,kj->bik', emb[0:1], state_matrix)\n",
    "transition = torch.matmul(state_matrix, state_matrix.transpose(0, 1))\n",
    "lens = batches[bi]['sent_lens'][0:1].to('cuda')\n",
    "print(lens)"
   ]
  },
  {
   "cell_type": "code",
   "execution_count": 88,
   "id": "4796f627-036f-49a9-8b4b-142e52ffb2a1",
   "metadata": {},
   "outputs": [
    {
     "data": {
      "text/plain": [
       "(tensor(4.5014, device='cuda:0'),\n",
       " tensor(-0.9256, device='cuda:0'),\n",
       " tensor(0.2110, device='cuda:0'),\n",
       " tensor(4.3941, device='cuda:0', grad_fn=<MaxBackward1>),\n",
       " tensor(-2.1628, device='cuda:0', grad_fn=<MinBackward1>),\n",
       " tensor(0.6683, device='cuda:0', grad_fn=<MeanBackward0>))"
      ]
     },
     "execution_count": 88,
     "metadata": {},
     "output_type": "execute_result"
    }
   ],
   "source": [
    "transition.max(), transition.min(), transition.mean(), emission.max(), emission.min(), emission.mean()"
   ]
  },
  {
   "cell_type": "code",
   "execution_count": 89,
   "id": "f0b45e05-0d45-46ea-9665-fd4419fa27b4",
   "metadata": {},
   "outputs": [],
   "source": [
    "with torch.no_grad():\n",
    "    alpha, log_z_exact = crf.forward_sum(transition, emission, lens)"
   ]
  },
  {
   "cell_type": "code",
   "execution_count": 90,
   "id": "231bc164-5969-4003-aff5-d8a818819532",
   "metadata": {},
   "outputs": [
    {
     "data": {
      "text/plain": [
       "tensor([82.7498], device='cuda:0')"
      ]
     },
     "execution_count": 90,
     "metadata": {},
     "output_type": "execute_result"
    }
   ],
   "source": [
    "log_z_exact"
   ]
  },
  {
   "cell_type": "code",
   "execution_count": 101,
   "id": "d3455bb9-13b1-4029-aa62-2400977e313c",
   "metadata": {},
   "outputs": [],
   "source": [
    "with torch.no_grad():\n",
    "    log_Z_est = crf.forward_approx(\n",
    "                     state_matrix, \n",
    "                     emission, \n",
    "                     lens, \n",
    "                     sum_size=100, \n",
    "                     proposal='softmax',\n",
    "                     transition_proposal='none',\n",
    "                     sample_size=1,\n",
    "                     return_sampled_idx=False\n",
    "                     )"
   ]
  },
  {
   "cell_type": "code",
   "execution_count": 102,
   "id": "9ed80737-ae7e-4c95-a468-dfa8926d805d",
   "metadata": {},
   "outputs": [
    {
     "data": {
      "text/plain": [
       "tensor([82.5742], device='cuda:0')"
      ]
     },
     "execution_count": 102,
     "metadata": {},
     "output_type": "execute_result"
    }
   ],
   "source": [
    "log_Z_est"
   ]
  }
 ],
 "metadata": {
  "kernelspec": {
   "display_name": "Python 3",
   "language": "python",
   "name": "python3"
  },
  "language_info": {
   "codemirror_mode": {
    "name": "ipython",
    "version": 3
   },
   "file_extension": ".py",
   "mimetype": "text/x-python",
   "name": "python",
   "nbconvert_exporter": "python",
   "pygments_lexer": "ipython3",
   "version": "3.6.13"
  }
 },
 "nbformat": 4,
 "nbformat_minor": 5
}

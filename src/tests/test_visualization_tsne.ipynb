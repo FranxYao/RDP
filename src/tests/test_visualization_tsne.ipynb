{
 "cells": [
  {
   "cell_type": "markdown",
   "id": "db72b733-08c5-428d-a59c-023ac74c5faa",
   "metadata": {},
   "source": [
    "# tSNE visualization\n",
    "\n",
    "Yao Fu. University of Edinburgh\\\n",
    "yao.fu@ed.ac.uk\\\n",
    "Tue Jun 22 2021"
   ]
  },
  {
   "cell_type": "code",
   "execution_count": null,
   "id": "25fa8446-065b-4d5b-ad90-ea7d6a74c1b4",
   "metadata": {},
   "outputs": [],
   "source": []
  }
 ],
 "metadata": {
  "kernelspec": {
   "display_name": "Python 3",
   "language": "python",
   "name": "python3"
  },
  "language_info": {
   "codemirror_mode": {
    "name": "ipython",
    "version": 3
   },
   "file_extension": ".py",
   "mimetype": "text/x-python",
   "name": "python",
   "nbconvert_exporter": "python",
   "pygments_lexer": "ipython3",
   "version": "3.6.13"
  }
 },
 "nbformat": 4,
 "nbformat_minor": 5
}

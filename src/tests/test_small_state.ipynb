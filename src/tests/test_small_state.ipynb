{
 "cells": [
  {
   "cell_type": "markdown",
   "id": "466b01a0-d067-4c51-ab29-afd21e154f6b",
   "metadata": {},
   "source": [
    "# Test why RDP overestimate in the small state case"
   ]
  },
  {
   "cell_type": "code",
   "execution_count": 1,
   "id": "4c8c0f29-f07b-442e-87d9-e984c012fd7d",
   "metadata": {},
   "outputs": [],
   "source": [
    "from data_utils import MSCOCOData\n",
    "from gpt2net import GPT2NetModel"
   ]
  },
  {
   "cell_type": "code",
   "execution_count": 2,
   "id": "96be0bf2-58ad-4f06-be55-0f8f61cc0e62",
   "metadata": {},
   "outputs": [],
   "source": [
    "import torch \n",
    "import numpy as np \n",
    "from tqdm import tqdm \n",
    "from time import time "
   ]
  },
  {
   "cell_type": "code",
   "execution_count": null,
   "id": "01d139dd-a55f-45b6-98cc-3061e5d4639c",
   "metadata": {},
   "outputs": [],
   "source": []
  },
  {
   "cell_type": "code",
   "execution_count": 3,
   "id": "dce57ab3-e45c-4ee2-a399-f26b6ea4e957",
   "metadata": {},
   "outputs": [
    {
     "name": "stdout",
     "output_type": "stream",
     "text": [
      "Processing mscoco data ... \n"
     ]
    },
    {
     "name": "stderr",
     "output_type": "stream",
     "text": [
      "Special tokens have been added in the vocabulary, make sure the associated word embeddings are fine-tuned or trained.\n"
     ]
    },
    {
     "name": "stdout",
     "output_type": "stream",
     "text": [
      "Reading mscoco raw data .. \n",
      "  data path: ../data/mscoco/captions_train2014.json\n"
     ]
    },
    {
     "name": "stderr",
     "output_type": "stream",
     "text": [
      "  0%|          | 0/414113 [00:00<?, ?it/s]"
     ]
    },
    {
     "name": "stdout",
     "output_type": "stream",
     "text": [
      "414113 sentences in total, 0.65sec\n"
     ]
    },
    {
     "name": "stderr",
     "output_type": "stream",
     "text": [
      "100%|██████████| 414113/414113 [00:00<00:00, 577006.65it/s]\n"
     ]
    },
    {
     "name": "stdout",
     "output_type": "stream",
     "text": [
      "Reading mscoco raw data .. \n",
      "  data path: ../data/mscoco/captions_val2014.json\n"
     ]
    },
    {
     "name": "stderr",
     "output_type": "stream",
     "text": [
      "  0%|          | 0/202654 [00:00<?, ?it/s]"
     ]
    },
    {
     "name": "stdout",
     "output_type": "stream",
     "text": [
      "202654 sentences in total, 0.38sec\n"
     ]
    },
    {
     "name": "stderr",
     "output_type": "stream",
     "text": [
      "100%|██████████| 202654/202654 [00:00<00:00, 479769.62it/s]\n",
      "  1%|          | 62/5000 [00:00<00:08, 574.45it/s]"
     ]
    },
    {
     "name": "stdout",
     "output_type": "stream",
     "text": [
      "82586\n",
      "82581 82573\n",
      "Processing sentence\n"
     ]
    },
    {
     "name": "stderr",
     "output_type": "stream",
     "text": [
      "100%|██████████| 5000/5000 [00:04<00:00, 1096.40it/s]\n"
     ]
    },
    {
     "name": "stdout",
     "output_type": "stream",
     "text": [
      "Padding to max sentence length 18\n",
      "Padding to max bow length 9\n"
     ]
    },
    {
     "name": "stderr",
     "output_type": "stream",
     "text": [
      "100%|██████████| 2000/2000 [00:00<00:00, 5635.06it/s]\n",
      "100%|██████████| 1000/1000 [00:00<00:00, 5645.75it/s]\n"
     ]
    }
   ],
   "source": [
    "dataset = MSCOCOData(batch_size=10, test_batch_size=10, subsample=True)"
   ]
  },
  {
   "cell_type": "code",
   "execution_count": 4,
   "id": "b2f1369f-beb0-475a-8448-73575e9202c7",
   "metadata": {},
   "outputs": [],
   "source": [
    "loader = dataset.train_dataloader()"
   ]
  },
  {
   "cell_type": "code",
   "execution_count": 5,
   "id": "79aad46a-963a-4757-8096-9a52e5cb2a25",
   "metadata": {},
   "outputs": [],
   "source": [
    "batch = next(iter(loader))"
   ]
  },
  {
   "cell_type": "code",
   "execution_count": 6,
   "id": "72241d5d-a120-4e13-8179-34e361a5a449",
   "metadata": {},
   "outputs": [
    {
     "data": {
      "text/plain": [
       "dict_keys(['input_ids', 'bow'])"
      ]
     },
     "execution_count": 6,
     "metadata": {},
     "output_type": "execute_result"
    }
   ],
   "source": [
    "batch.keys()"
   ]
  },
  {
   "cell_type": "code",
   "execution_count": 7,
   "id": "96665b36-be5a-4ce8-b8ae-7ca45819bda9",
   "metadata": {},
   "outputs": [
    {
     "name": "stderr",
     "output_type": "stream",
     "text": [
      "Some weights of GPT2Model were not initialized from the model checkpoint at gpt2 and are newly initialized: ['h.6.attn.masked_bias', 'h.9.attn.masked_bias', 'h.3.attn.masked_bias', 'h.10.attn.masked_bias', 'h.0.attn.masked_bias', 'h.2.attn.masked_bias', 'h.1.attn.masked_bias', 'h.8.attn.masked_bias', 'h.4.attn.masked_bias', 'h.5.attn.masked_bias', 'h.11.attn.masked_bias', 'h.7.attn.masked_bias']\n",
      "You should probably TRAIN this model on a down-stream task to be able to use it for predictions and inference.\n"
     ]
    }
   ],
   "source": [
    "model = GPT2NetModel(num_state=50,\n",
    "                     transition_init_scale=0.01,\n",
    "                     exact_rsample=True,\n",
    "                     sum_size=20,\n",
    "                     sample_size=5,\n",
    "                     proposal='softmax',\n",
    "                     transition_proposal='none',\n",
    "                     device='cuda',\n",
    "                     vocab_size=len(dataset.tokenizer),\n",
    "                     pad_id=dataset.pad_id,\n",
    "                     bos_id=dataset.bos_id,\n",
    "                     max_dec_len=dataset.max_slen, \n",
    "                     use_bow=True,\n",
    "                     use_copy=True,\n",
    "                     task='paraphrasing',\n",
    "                     ent_approx=True,\n",
    "                     word_dropout_decay=False,\n",
    "                     dropout=0.2,\n",
    "                     potential_normalization='minmax',\n",
    "                     potential_scale=10.,\n",
    "                     mask_z=False,\n",
    "                     z_st=True,\n",
    "                     topk_sum=False,\n",
    "                     cache_dir=''\n",
    "                    )"
   ]
  },
  {
   "cell_type": "code",
   "execution_count": 8,
   "id": "a588cd1f-353f-4df4-9b42-b9b4a974233c",
   "metadata": {
    "collapsed": true,
    "jupyter": {
     "outputs_hidden": true
    },
    "tags": []
   },
   "outputs": [
    {
     "data": {
      "text/plain": [
       "GPT2NetModel(\n",
       "  (encoder): GPT2Model(\n",
       "    (wte): Embedding(50257, 768)\n",
       "    (wpe): Embedding(1024, 768)\n",
       "    (drop): Dropout(p=0.1, inplace=False)\n",
       "    (h): ModuleList(\n",
       "      (0): GPT2Block(\n",
       "        (ln_1): LayerNorm((768,), eps=1e-05, elementwise_affine=True)\n",
       "        (attn): GPT2Attention(\n",
       "          (c_attn): Conv1D()\n",
       "          (c_proj): Conv1D()\n",
       "          (attn_dropout): Dropout(p=0.1, inplace=False)\n",
       "          (resid_dropout): Dropout(p=0.1, inplace=False)\n",
       "        )\n",
       "        (ln_2): LayerNorm((768,), eps=1e-05, elementwise_affine=True)\n",
       "        (mlp): GPT2MLP(\n",
       "          (c_fc): Conv1D()\n",
       "          (c_proj): Conv1D()\n",
       "          (dropout): Dropout(p=0.1, inplace=False)\n",
       "        )\n",
       "      )\n",
       "      (1): GPT2Block(\n",
       "        (ln_1): LayerNorm((768,), eps=1e-05, elementwise_affine=True)\n",
       "        (attn): GPT2Attention(\n",
       "          (c_attn): Conv1D()\n",
       "          (c_proj): Conv1D()\n",
       "          (attn_dropout): Dropout(p=0.1, inplace=False)\n",
       "          (resid_dropout): Dropout(p=0.1, inplace=False)\n",
       "        )\n",
       "        (ln_2): LayerNorm((768,), eps=1e-05, elementwise_affine=True)\n",
       "        (mlp): GPT2MLP(\n",
       "          (c_fc): Conv1D()\n",
       "          (c_proj): Conv1D()\n",
       "          (dropout): Dropout(p=0.1, inplace=False)\n",
       "        )\n",
       "      )\n",
       "      (2): GPT2Block(\n",
       "        (ln_1): LayerNorm((768,), eps=1e-05, elementwise_affine=True)\n",
       "        (attn): GPT2Attention(\n",
       "          (c_attn): Conv1D()\n",
       "          (c_proj): Conv1D()\n",
       "          (attn_dropout): Dropout(p=0.1, inplace=False)\n",
       "          (resid_dropout): Dropout(p=0.1, inplace=False)\n",
       "        )\n",
       "        (ln_2): LayerNorm((768,), eps=1e-05, elementwise_affine=True)\n",
       "        (mlp): GPT2MLP(\n",
       "          (c_fc): Conv1D()\n",
       "          (c_proj): Conv1D()\n",
       "          (dropout): Dropout(p=0.1, inplace=False)\n",
       "        )\n",
       "      )\n",
       "      (3): GPT2Block(\n",
       "        (ln_1): LayerNorm((768,), eps=1e-05, elementwise_affine=True)\n",
       "        (attn): GPT2Attention(\n",
       "          (c_attn): Conv1D()\n",
       "          (c_proj): Conv1D()\n",
       "          (attn_dropout): Dropout(p=0.1, inplace=False)\n",
       "          (resid_dropout): Dropout(p=0.1, inplace=False)\n",
       "        )\n",
       "        (ln_2): LayerNorm((768,), eps=1e-05, elementwise_affine=True)\n",
       "        (mlp): GPT2MLP(\n",
       "          (c_fc): Conv1D()\n",
       "          (c_proj): Conv1D()\n",
       "          (dropout): Dropout(p=0.1, inplace=False)\n",
       "        )\n",
       "      )\n",
       "      (4): GPT2Block(\n",
       "        (ln_1): LayerNorm((768,), eps=1e-05, elementwise_affine=True)\n",
       "        (attn): GPT2Attention(\n",
       "          (c_attn): Conv1D()\n",
       "          (c_proj): Conv1D()\n",
       "          (attn_dropout): Dropout(p=0.1, inplace=False)\n",
       "          (resid_dropout): Dropout(p=0.1, inplace=False)\n",
       "        )\n",
       "        (ln_2): LayerNorm((768,), eps=1e-05, elementwise_affine=True)\n",
       "        (mlp): GPT2MLP(\n",
       "          (c_fc): Conv1D()\n",
       "          (c_proj): Conv1D()\n",
       "          (dropout): Dropout(p=0.1, inplace=False)\n",
       "        )\n",
       "      )\n",
       "      (5): GPT2Block(\n",
       "        (ln_1): LayerNorm((768,), eps=1e-05, elementwise_affine=True)\n",
       "        (attn): GPT2Attention(\n",
       "          (c_attn): Conv1D()\n",
       "          (c_proj): Conv1D()\n",
       "          (attn_dropout): Dropout(p=0.1, inplace=False)\n",
       "          (resid_dropout): Dropout(p=0.1, inplace=False)\n",
       "        )\n",
       "        (ln_2): LayerNorm((768,), eps=1e-05, elementwise_affine=True)\n",
       "        (mlp): GPT2MLP(\n",
       "          (c_fc): Conv1D()\n",
       "          (c_proj): Conv1D()\n",
       "          (dropout): Dropout(p=0.1, inplace=False)\n",
       "        )\n",
       "      )\n",
       "      (6): GPT2Block(\n",
       "        (ln_1): LayerNorm((768,), eps=1e-05, elementwise_affine=True)\n",
       "        (attn): GPT2Attention(\n",
       "          (c_attn): Conv1D()\n",
       "          (c_proj): Conv1D()\n",
       "          (attn_dropout): Dropout(p=0.1, inplace=False)\n",
       "          (resid_dropout): Dropout(p=0.1, inplace=False)\n",
       "        )\n",
       "        (ln_2): LayerNorm((768,), eps=1e-05, elementwise_affine=True)\n",
       "        (mlp): GPT2MLP(\n",
       "          (c_fc): Conv1D()\n",
       "          (c_proj): Conv1D()\n",
       "          (dropout): Dropout(p=0.1, inplace=False)\n",
       "        )\n",
       "      )\n",
       "      (7): GPT2Block(\n",
       "        (ln_1): LayerNorm((768,), eps=1e-05, elementwise_affine=True)\n",
       "        (attn): GPT2Attention(\n",
       "          (c_attn): Conv1D()\n",
       "          (c_proj): Conv1D()\n",
       "          (attn_dropout): Dropout(p=0.1, inplace=False)\n",
       "          (resid_dropout): Dropout(p=0.1, inplace=False)\n",
       "        )\n",
       "        (ln_2): LayerNorm((768,), eps=1e-05, elementwise_affine=True)\n",
       "        (mlp): GPT2MLP(\n",
       "          (c_fc): Conv1D()\n",
       "          (c_proj): Conv1D()\n",
       "          (dropout): Dropout(p=0.1, inplace=False)\n",
       "        )\n",
       "      )\n",
       "      (8): GPT2Block(\n",
       "        (ln_1): LayerNorm((768,), eps=1e-05, elementwise_affine=True)\n",
       "        (attn): GPT2Attention(\n",
       "          (c_attn): Conv1D()\n",
       "          (c_proj): Conv1D()\n",
       "          (attn_dropout): Dropout(p=0.1, inplace=False)\n",
       "          (resid_dropout): Dropout(p=0.1, inplace=False)\n",
       "        )\n",
       "        (ln_2): LayerNorm((768,), eps=1e-05, elementwise_affine=True)\n",
       "        (mlp): GPT2MLP(\n",
       "          (c_fc): Conv1D()\n",
       "          (c_proj): Conv1D()\n",
       "          (dropout): Dropout(p=0.1, inplace=False)\n",
       "        )\n",
       "      )\n",
       "      (9): GPT2Block(\n",
       "        (ln_1): LayerNorm((768,), eps=1e-05, elementwise_affine=True)\n",
       "        (attn): GPT2Attention(\n",
       "          (c_attn): Conv1D()\n",
       "          (c_proj): Conv1D()\n",
       "          (attn_dropout): Dropout(p=0.1, inplace=False)\n",
       "          (resid_dropout): Dropout(p=0.1, inplace=False)\n",
       "        )\n",
       "        (ln_2): LayerNorm((768,), eps=1e-05, elementwise_affine=True)\n",
       "        (mlp): GPT2MLP(\n",
       "          (c_fc): Conv1D()\n",
       "          (c_proj): Conv1D()\n",
       "          (dropout): Dropout(p=0.1, inplace=False)\n",
       "        )\n",
       "      )\n",
       "      (10): GPT2Block(\n",
       "        (ln_1): LayerNorm((768,), eps=1e-05, elementwise_affine=True)\n",
       "        (attn): GPT2Attention(\n",
       "          (c_attn): Conv1D()\n",
       "          (c_proj): Conv1D()\n",
       "          (attn_dropout): Dropout(p=0.1, inplace=False)\n",
       "          (resid_dropout): Dropout(p=0.1, inplace=False)\n",
       "        )\n",
       "        (ln_2): LayerNorm((768,), eps=1e-05, elementwise_affine=True)\n",
       "        (mlp): GPT2MLP(\n",
       "          (c_fc): Conv1D()\n",
       "          (c_proj): Conv1D()\n",
       "          (dropout): Dropout(p=0.1, inplace=False)\n",
       "        )\n",
       "      )\n",
       "      (11): GPT2Block(\n",
       "        (ln_1): LayerNorm((768,), eps=1e-05, elementwise_affine=True)\n",
       "        (attn): GPT2Attention(\n",
       "          (c_attn): Conv1D()\n",
       "          (c_proj): Conv1D()\n",
       "          (attn_dropout): Dropout(p=0.1, inplace=False)\n",
       "          (resid_dropout): Dropout(p=0.1, inplace=False)\n",
       "        )\n",
       "        (ln_2): LayerNorm((768,), eps=1e-05, elementwise_affine=True)\n",
       "        (mlp): GPT2MLP(\n",
       "          (c_fc): Conv1D()\n",
       "          (c_proj): Conv1D()\n",
       "          (dropout): Dropout(p=0.1, inplace=False)\n",
       "        )\n",
       "      )\n",
       "    )\n",
       "    (ln_f): LayerNorm((768,), eps=1e-05, elementwise_affine=True)\n",
       "  )\n",
       "  (crf): LinearChainCRF()\n",
       "  (embeddings): Embedding(50258, 768)\n",
       "  (p_init_proj_h): Linear(in_features=768, out_features=768, bias=True)\n",
       "  (p_init_proj_c): Linear(in_features=768, out_features=768, bias=True)\n",
       "  (decoder): LSTMDecoder(\n",
       "    (cell): LSTM(768, 768)\n",
       "    (dropout): Dropout(p=0.0, inplace=False)\n",
       "    (output_proj): Linear(in_features=768, out_features=50258, bias=True)\n",
       "  )\n",
       "  (p_copy_attn): Attention(\n",
       "    (query_proj): Linear(in_features=768, out_features=768, bias=True)\n",
       "    (attn_proj): Linear(in_features=768, out_features=768, bias=True)\n",
       "  )\n",
       "  (p_copy_g): Linear(in_features=768, out_features=1, bias=True)\n",
       "  (p_z_proj): Linear(in_features=768, out_features=50, bias=True)\n",
       "  (p_z_intermediate): Linear(in_features=1536, out_features=768, bias=True)\n",
       ")"
      ]
     },
     "execution_count": 8,
     "metadata": {},
     "output_type": "execute_result"
    }
   ],
   "source": [
    "model.to('cuda')"
   ]
  },
  {
   "cell_type": "code",
   "execution_count": 9,
   "id": "4cf0269d-779a-4154-8959-044ec566b003",
   "metadata": {},
   "outputs": [],
   "source": [
    "sent = batch['input_ids'].to('cuda')\n",
    "x_enc = sent[:, 1:]\n",
    "attention_mask = (x_enc != model.pad_id).float() \n",
    "x_lens = attention_mask.sum(-1).long()\n",
    "x_emb = model.encoder(x_enc, attention_mask=attention_mask).last_hidden_state"
   ]
  },
  {
   "cell_type": "code",
   "execution_count": 10,
   "id": "baf046c3-867c-4fd9-8b41-ea764ccb2508",
   "metadata": {},
   "outputs": [],
   "source": [
    "state_matrix, emission_seq, transition, emission = model.weight_norm(x_emb)"
   ]
  },
  {
   "cell_type": "code",
   "execution_count": 11,
   "id": "8e7f0428-b368-4e63-8233-d2cce3e63bbc",
   "metadata": {},
   "outputs": [
    {
     "data": {
      "text/plain": [
       "torch.Size([10, 17, 50])"
      ]
     },
     "execution_count": 11,
     "metadata": {},
     "output_type": "execute_result"
    }
   ],
   "source": [
    "emission.size()"
   ]
  },
  {
   "cell_type": "code",
   "execution_count": 12,
   "id": "febefa6b-d206-415b-b14e-0fb579e3b39d",
   "metadata": {},
   "outputs": [],
   "source": [
    "_, log_z_exact = model.crf.forward_sum(transition, emission, x_lens)"
   ]
  },
  {
   "cell_type": "code",
   "execution_count": 13,
   "id": "09173542-3993-488d-ae90-4ae22a26a7e5",
   "metadata": {},
   "outputs": [
    {
     "data": {
      "text/plain": [
       "tensor(142.5574, device='cuda:0', grad_fn=<SelectBackward>)"
      ]
     },
     "execution_count": 13,
     "metadata": {},
     "output_type": "execute_result"
    }
   ],
   "source": [
    "log_z_exact[0]"
   ]
  },
  {
   "cell_type": "code",
   "execution_count": 17,
   "id": "ec5a045f-44bb-469f-b827-074c01c298ee",
   "metadata": {},
   "outputs": [],
   "source": [
    "log_z_est_non_trans = []\n",
    "sampled_index_all = []\n",
    "for _ in range(100):\n",
    "    est, sampled_index = model.crf.forward_approx(state_matrix, emission, x_lens, \n",
    "        sum_size=25, proposal='softmax', \n",
    "        transition_proposal='none', sample_size=5, return_sampled_idx=True)\n",
    "    log_z_est_non_trans.append(est[0].cpu().item())\n",
    "    sampled_index_all.append(sampled_index)"
   ]
  },
  {
   "cell_type": "code",
   "execution_count": 18,
   "id": "e909face-917a-4d7d-a3b0-21c47559fc82",
   "metadata": {},
   "outputs": [
    {
     "data": {
      "text/plain": [
       "142.55740051269532"
      ]
     },
     "execution_count": 18,
     "metadata": {},
     "output_type": "execute_result"
    }
   ],
   "source": [
    "np.average(log_z_est_non_trans)"
   ]
  },
  {
   "cell_type": "code",
   "execution_count": 19,
   "id": "183ea4f7-8156-4bca-96e1-e1b9aaec44f0",
   "metadata": {},
   "outputs": [
    {
     "data": {
      "text/plain": [
       "torch.Size([17, 30])"
      ]
     },
     "execution_count": 19,
     "metadata": {},
     "output_type": "execute_result"
    }
   ],
   "source": [
    "sampled_index[0].size()"
   ]
  }
 ],
 "metadata": {
  "kernelspec": {
   "display_name": "Python 3",
   "language": "python",
   "name": "python3"
  },
  "language_info": {
   "codemirror_mode": {
    "name": "ipython",
    "version": 3
   },
   "file_extension": ".py",
   "mimetype": "text/x-python",
   "name": "python",
   "nbconvert_exporter": "python",
   "pygments_lexer": "ipython3",
   "version": "3.6.13"
  }
 },
 "nbformat": 4,
 "nbformat_minor": 5
}
